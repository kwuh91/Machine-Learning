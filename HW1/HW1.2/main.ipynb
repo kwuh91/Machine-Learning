{
 "cells": [
  {
   "cell_type": "markdown",
   "metadata": {},
   "source": [
    "# Import libraries"
   ]
  },
  {
   "cell_type": "code",
   "execution_count": 635,
   "metadata": {},
   "outputs": [],
   "source": [
    "import numpy as np\n",
    "import scipy as sp\n",
    "\n",
    "import torch\n",
    "\n",
    "import matplotlib.pyplot as plt\n",
    "import matplotlib.font_manager as fm\n",
    "\n",
    "from dataclasses import dataclass\n",
    "from abc import ABC, abstractmethod\n",
    "\n",
    "import time"
   ]
  },
  {
   "cell_type": "markdown",
   "metadata": {},
   "source": [
    "# Set constants"
   ]
  },
  {
   "cell_type": "code",
   "execution_count": 636,
   "metadata": {},
   "outputs": [],
   "source": [
    "# paths\n",
    "FONT_PATH     = '../../extra/Cinzel-VariableFont_wght.ttf'\n",
    "IMAGES_PATH   = 'images'\n",
    "# colors\n",
    "RED        = '#6F1D1B'\n",
    "RICH_BLACK = '#011627'\n",
    "# font size\n",
    "SIZE_TICKS = 12\n",
    "SIZE_AXIS_NAMES = 22\n",
    "SIZE_TITLE = 16\n",
    "SIZE_LEGEND = 12\n",
    "\n",
    "SAVE = False"
   ]
  },
  {
   "cell_type": "markdown",
   "metadata": {},
   "source": [
    "# Load fonts"
   ]
  },
  {
   "cell_type": "code",
   "execution_count": 637,
   "metadata": {},
   "outputs": [],
   "source": [
    "cinzel_font = fm.FontProperties(fname=FONT_PATH)\n",
    "fm.fontManager.addfont(FONT_PATH)"
   ]
  },
  {
   "cell_type": "markdown",
   "metadata": {},
   "source": [
    "# Define styles"
   ]
  },
  {
   "cell_type": "code",
   "execution_count": 638,
   "metadata": {},
   "outputs": [],
   "source": [
    "# classical line plot style \n",
    "classic_style = {\n",
    "    \"font.family\": cinzel_font.get_name(), # apply Cinzel font\n",
    "    \"font.size\": SIZE_TITLE\n",
    "}"
   ]
  },
  {
   "cell_type": "code",
   "execution_count": 639,
   "metadata": {},
   "outputs": [],
   "source": [
    "plt.rcdefaults() # reset to defauls"
   ]
  },
  {
   "cell_type": "markdown",
   "metadata": {},
   "source": [
    "# Helper functions"
   ]
  },
  {
   "cell_type": "code",
   "execution_count": 640,
   "metadata": {},
   "outputs": [],
   "source": [
    "# helper function to decorate plots\n",
    "def decorate_regular_plot(ax, xname: str, \n",
    "                              yname: str, \n",
    "                              loc=None) -> None:\n",
    "    SIZE_TICKS = 12\n",
    "\n",
    "    # show ticks in the left and lower axes only\n",
    "    ax.xaxis.set_ticks_position('bottom')\n",
    "    ax.yaxis.set_ticks_position('left')\n",
    "\n",
    "    # x axis name\n",
    "    ax.set_xlabel(xname, fontsize=SIZE_AXIS_NAMES, labelpad=10)\n",
    "\n",
    "    # y axis name\n",
    "    ax.set_ylabel(yname, fontsize=SIZE_AXIS_NAMES, labelpad=10)\n",
    "\n",
    "    # adjust the font size of the tick labels\n",
    "    ax.tick_params(axis='both', which='major', labelsize=SIZE_TICKS)\n",
    "\n",
    "    if loc:\n",
    "        plt.legend(fontsize=SIZE_LEGEND, loc=loc)\n",
    "\n",
    "    # adjust layout\n",
    "    plt.tight_layout()"
   ]
  },
  {
   "cell_type": "markdown",
   "metadata": {},
   "source": [
    "# Utils"
   ]
  },
  {
   "cell_type": "code",
   "execution_count": 641,
   "metadata": {},
   "outputs": [],
   "source": [
    "# Define a helper class for points \n",
    "# of type (x, y)\n",
    "@dataclass\n",
    "class Point:\n",
    "    x: float\n",
    "    y: float\n",
    "\n",
    "    def __str__(self):\n",
    "        return f'(x={self.x}; y={self.y})'\n",
    "    \n",
    "    def __lt__(self, other):\n",
    "        return self.y <= other.y\n",
    "    \n",
    "    def __format__(self, format_spec):\n",
    "        format_x = format(self.x, format_spec)\n",
    "        format_y = format(self.y, format_spec)\n",
    "        return  f'(x={format_x}; y={format_y})'\n"
   ]
  },
  {
   "cell_type": "code",
   "execution_count": 642,
   "metadata": {},
   "outputs": [],
   "source": [
    "# Define an abstract class\n",
    "class Optimization(ABC):\n",
    "    def __init__(self, func) -> None:\n",
    "        self.func = func   \n",
    "\n",
    "    # Метод равномерного поиска\n",
    "    @abstractmethod\n",
    "    def uniform_search(self, a: float, \n",
    "                             b: float,\n",
    "                             n: int,\n",
    "                             add_to_comparison: bool,\n",
    "                             *args):\n",
    "        pass\n",
    "\n",
    "    # Метод ломаных\n",
    "    @abstractmethod\n",
    "    def broken_lines(self):\n",
    "        pass\n",
    "\n",
    "    # Метод секущих\n",
    "    @abstractmethod\n",
    "    def secant(self):\n",
    "        pass\n",
    "\n",
    "    # Метод Ньютона\n",
    "    @abstractmethod\n",
    "    def newton(self):\n",
    "        pass"
   ]
  },
  {
   "cell_type": "code",
   "execution_count": 643,
   "metadata": {},
   "outputs": [],
   "source": [
    "class Comparison:\n",
    "    @dataclass\n",
    "    class Method:\n",
    "        name: str\n",
    "        implementation_type: str\n",
    "        result: Point\n",
    "        execution_time: float\n",
    "        details: str = ''\n",
    "\n",
    "    def __init__(self) -> None:\n",
    "        self.data = []\n",
    "\n",
    "    def add_data(self, method: Method) -> None:\n",
    "        self.data.append(method)\n",
    "    \n",
    "    def get_data(self) -> list[Method]:\n",
    "        return self.data"
   ]
  },
  {
   "cell_type": "markdown",
   "metadata": {},
   "source": [
    "# Initial data"
   ]
  },
  {
   "cell_type": "code",
   "execution_count": 644,
   "metadata": {},
   "outputs": [],
   "source": [
    "# define a function\n",
    "def func(x, a, b, c, d) -> float:\n",
    "    return a * x**3 + b * x**2 + c * x + d\n",
    "\n",
    "# randomly choose coefficients\n",
    "A, B, C, D = 89, 45, -44, 68\n",
    "\n",
    "INTERVAL = (-0.5, 1)\n",
    "\n",
    "# create a Comparison object\n",
    "cmpr = Comparison()"
   ]
  },
  {
   "cell_type": "markdown",
   "metadata": {},
   "source": [
    "# Initial analysis"
   ]
  },
  {
   "cell_type": "code",
   "execution_count": 645,
   "metadata": {},
   "outputs": [
    {
     "data": {
      "image/png": "[encoded data removed]",
      "text/plain": [
       "<Figure size 600x1500 with 1 Axes>"
      ]
     },
     "metadata": {},
     "output_type": "display_data"
    }
   ],
   "source": [
    "myfunc = lambda x : func(x, A, B, C, D)\n",
    "\n",
    "# create plot \n",
    "with plt.rc_context(classic_style): # use context for styles not to interfere\n",
    "    fig, ax = plt.subplots(figsize=(6, 15))\n",
    "\n",
    "    x_values = np.linspace(-1-0.25, 0.75+0.25, 100)\n",
    "    y_values = myfunc(x_values)\n",
    "\n",
    "    ax.plot(x_values, y_values, color=RICH_BLACK, linewidth=3)\n",
    "\n",
    "    ax.set_title(f'$f(x) = {A} \\\\cdot x^3 {'+' if B > 0 else ''} {B} \\\\cdot x^2 {'+' if C > 0 else ''} {C} \\\\cdot x {'+' if D > 0 else ''} {D}$',\n",
    "                 pad=30)\n",
    "    decorate_regular_plot(ax, '$x$', '$f(x)$')\n",
    "\n",
    "    ax.grid(linewidth=1)\n",
    "\n",
    "    if SAVE:\n",
    "        plt.savefig(f'{IMAGES_PATH}/initial_f_plot.png', \n",
    "                    dpi=300, transparent=True)\n",
    "\n",
    "    plt.show()"
   ]
  },
  {
   "cell_type": "markdown",
   "metadata": {},
   "source": [
    "<h2> <center> Analytical implementation </center> </h2>"
   ]
  },
  {
   "cell_type": "code",
   "execution_count": 646,
   "metadata": {},
   "outputs": [],
   "source": [
    "# class for analytical implementations\n",
    "class OptimizationAnalytical(Optimization):\n",
    "    # Метод равномерного поиска\n",
    "    def uniform_search(self, a: float, \n",
    "                             b: float,\n",
    "                             n: int = 1000,\n",
    "                             add_to_comparison: bool = True,\n",
    "                             showplot: bool = False):\n",
    "        \n",
    "        # start timer\n",
    "        start_time = time.perf_counter()\n",
    "\n",
    "        points, minpoint = [], None\n",
    "        for i in range(1, n + 1):\n",
    "            x = a + i * (b - a)/(n + 1)\n",
    "            y = self.func(x)\n",
    "            point = Point(x, y)\n",
    "            points.append(point)\n",
    "\n",
    "            if minpoint is None:\n",
    "                minpoint = point\n",
    "            else:\n",
    "                minpoint = min(minpoint, point)\n",
    "\n",
    "        # end timer\n",
    "        result_time = time.perf_counter() - start_time\n",
    "\n",
    "        # add data to Comparison class\n",
    "        if add_to_comparison:\n",
    "            method = Comparison.Method('uniform_search', 'analytical', \n",
    "                                        minpoint, result_time)\n",
    "            cmpr.add_data(method)\n",
    "\n",
    "        if showplot:\n",
    "            # create plot \n",
    "            with plt.rc_context(classic_style): # use context for styles not to interfere\n",
    "                _, ax = plt.subplots(figsize=(6, 15))\n",
    "\n",
    "                x_values = np.linspace(-1-0.25, 0.75+0.25, 100)\n",
    "                y_values = myfunc(x_values)\n",
    "\n",
    "                # plot main function\n",
    "                ax.plot(x_values, y_values, color=RICH_BLACK, linewidth=3)\n",
    "\n",
    "                # plot vertical lines with dots\n",
    "                for i, point in enumerate(points):\n",
    "                    # plot lines\n",
    "                    ax.axvline(x=point.x, color=RED, linestyle='--')\n",
    "\n",
    "                    # plot dots\n",
    "                    ax.scatter(point.x, point.y, color=RED, \n",
    "                               s=50, zorder=n + 1 + i + 1)\n",
    "\n",
    "                ax.set_title(f'uniform search(n={n})')\n",
    "                decorate_regular_plot(ax, '$x$', '$f(x)$')\n",
    "\n",
    "                ax.grid(linewidth=1)\n",
    "\n",
    "                if SAVE:\n",
    "                    plt.savefig(f'{IMAGES_PATH}/uniform_search_f_plot(n={n}).png', \n",
    "                                dpi=300, transparent=True)\n",
    "\n",
    "                plt.show()\n",
    "\n",
    "        return [minpoint, result_time]\n",
    "    \n",
    "    # Метод ломаных\n",
    "    def broken_lines(self) -> Point:\n",
    "        raise NotImplementedError(\"Broken lines method not implemented\")\n",
    "\n",
    "    # Метод секущих\n",
    "    def secant(self) -> Point:\n",
    "        raise NotImplementedError(\"Secant method not implemented\")\n",
    "\n",
    "    # Метод Ньютона\n",
    "    def newton(self) -> Point:\n",
    "        raise NotImplementedError(\"Newton method not implemented\")\n"
   ]
  },
  {
   "cell_type": "markdown",
   "metadata": {},
   "source": [
    "## Uniform search"
   ]
  },
  {
   "cell_type": "code",
   "execution_count": 647,
   "metadata": {},
   "outputs": [],
   "source": [
    "# create optimizer and find minimum\n",
    "optimizer = OptimizationAnalytical(func=myfunc)"
   ]
  },
  {
   "cell_type": "code",
   "execution_count": 648,
   "metadata": {},
   "outputs": [
    {
     "data": {
      "image/png": "[encoded data removed]",
      "text/plain": [
       "<Figure size 600x1500 with 1 Axes>"
      ]
     },
     "metadata": {},
     "output_type": "display_data"
    },
    {
     "name": "stdout",
     "output_type": "stream",
     "text": [
      "Minimum found at: (x=0.333333; y=61.629630)\n"
     ]
    }
   ],
   "source": [
    "min_point, elapsed_time = optimizer.uniform_search(*INTERVAL, showplot=True, \n",
    "                                                   n=8, add_to_comparison=False)\n",
    "print(f'Minimum found at: {min_point:.6f}')"
   ]
  },
  {
   "cell_type": "code",
   "execution_count": 649,
   "metadata": {},
   "outputs": [
    {
     "name": "stdout",
     "output_type": "stream",
     "text": [
      "Minimum found at: (x=0.271728; y=61.152230) (execution time: 0.001004s)\n"
     ]
    }
   ],
   "source": [
    "min_point, elapsed_time = optimizer.uniform_search(*INTERVAL) # n = 1000 (default)\n",
    "print(f'Minimum found at: {min_point:.6f} (execution time: {elapsed_time:.6f}s)')"
   ]
  },
  {
   "cell_type": "markdown",
   "metadata": {},
   "source": [
    "## Broken lines"
   ]
  },
  {
   "cell_type": "markdown",
   "metadata": {},
   "source": [
    "## Secant"
   ]
  },
  {
   "cell_type": "markdown",
   "metadata": {},
   "source": [
    "## Newton"
   ]
  },
  {
   "cell_type": "markdown",
   "metadata": {},
   "source": [
    "<h2> <center> scipy implementation </center> </h2>"
   ]
  },
  {
   "cell_type": "code",
   "execution_count": 650,
   "metadata": {},
   "outputs": [],
   "source": [
    "# class for scipy implementations\n",
    "class OptimizationScipy(Optimization):\n",
    "    # Метод равномерного поиска\n",
    "    def uniform_search(self, a: float, \n",
    "                             b: float,\n",
    "                             n: int = 1000,\n",
    "                             add_to_comparison: bool = True):\n",
    "        # start timer\n",
    "        start_time = time.perf_counter()\n",
    "        \n",
    "        # get result\n",
    "        res = sp.optimize.brute(self.func, ranges=[(a, b)], \n",
    "                                Ns=n, full_output=True)\n",
    "        minpoint = Point(*res[0], res[1])\n",
    "\n",
    "        # end timer\n",
    "        result_time = time.perf_counter() - start_time\n",
    "        \n",
    "        # add data to Comparison class\n",
    "        if add_to_comparison:\n",
    "            method = Comparison.Method('uniform_search', 'scipy', \n",
    "                                        minpoint, result_time)\n",
    "            cmpr.add_data(method)\n",
    "\n",
    "        return [minpoint, result_time]\n",
    "    \n",
    "    # Метод ломаных\n",
    "    def broken_lines(self) -> Point:\n",
    "        raise NotImplementedError(\"Broken lines method not implemented\")\n",
    "\n",
    "    # Метод секущих\n",
    "    def secant(self) -> Point:\n",
    "        raise NotImplementedError(\"Secant method not implemented\")\n",
    "\n",
    "    # Метод Ньютона\n",
    "    def newton(self) -> Point:\n",
    "        raise NotImplementedError(\"Newton method not implemented\")\n"
   ]
  },
  {
   "cell_type": "markdown",
   "metadata": {},
   "source": [
    "## Uniform search"
   ]
  },
  {
   "cell_type": "code",
   "execution_count": 651,
   "metadata": {},
   "outputs": [
    {
     "name": "stdout",
     "output_type": "stream",
     "text": [
      "Minimum found at: (x=0.271009; y=61.152168) (execution time: 0.011910s)\n"
     ]
    }
   ],
   "source": [
    "# create optimizer and find minimum\n",
    "optimizer = OptimizationScipy(func=myfunc)\n",
    "\n",
    "min_point, elapsed_time = optimizer.uniform_search(*INTERVAL) # n = 1000 (default)\n",
    "print(f'Minimum found at: {min_point:.6f} (execution time: {elapsed_time:.6f}s)')"
   ]
  },
  {
   "cell_type": "markdown",
   "metadata": {},
   "source": [
    "## Broken lines"
   ]
  },
  {
   "cell_type": "markdown",
   "metadata": {},
   "source": [
    "## Secant"
   ]
  },
  {
   "cell_type": "markdown",
   "metadata": {},
   "source": [
    "## Newton"
   ]
  },
  {
   "cell_type": "markdown",
   "metadata": {},
   "source": [
    "<h2> <center> pytorch implementation </center> </h2>"
   ]
  },
  {
   "cell_type": "code",
   "execution_count": 652,
   "metadata": {},
   "outputs": [],
   "source": [
    "# class for PyTorch implementations\n",
    "class OptimizationPyTorch(Optimization):\n",
    "    # Метод равномерного поиска\n",
    "    def uniform_search(self, a: float, \n",
    "                             b: float,\n",
    "                             n: int = 1000,\n",
    "                             add_to_comparison: bool = True,\n",
    "                             device='cpu') -> Point:\n",
    "        # start timer\n",
    "        start_time = time.perf_counter()\n",
    "\n",
    "        # one-dimensional grid\n",
    "        x_tenzor = torch.linspace(start=a, end=b, steps=n, device=device)\n",
    "        \n",
    "        # get corresponding values\n",
    "        y_tenzor = self.func(x_tenzor)\n",
    "\n",
    "        # find the index of the minimum value\n",
    "        min_ind = torch.argmin(y_tenzor)\n",
    "\n",
    "        # construct a point\n",
    "        minpoint = Point(x_tenzor[min_ind], \n",
    "                         y_tenzor[min_ind])\n",
    "\n",
    "        # end timer\n",
    "        result_time = time.perf_counter() - start_time\n",
    "\n",
    "        # add data to Comparison class\n",
    "        if add_to_comparison:\n",
    "            method = Comparison.Method('uniform_search', 'pytorch', \n",
    "                                        minpoint, result_time, device)\n",
    "            cmpr.add_data(method)\n",
    "\n",
    "        return [minpoint, result_time]\n",
    "    \n",
    "    # Метод ломаных\n",
    "    def broken_lines(self) -> Point:\n",
    "        raise NotImplementedError(\"Broken lines method not implemented\")\n",
    "\n",
    "    # Метод секущих\n",
    "    def secant(self) -> Point:\n",
    "        raise NotImplementedError(\"Secant method not implemented\")\n",
    "\n",
    "    # Метод Ньютона\n",
    "    def newton(self) -> Point:\n",
    "        raise NotImplementedError(\"Newton method not implemented\")\n"
   ]
  },
  {
   "cell_type": "markdown",
   "metadata": {},
   "source": [
    "## Uniform search"
   ]
  },
  {
   "cell_type": "code",
   "execution_count": 653,
   "metadata": {},
   "outputs": [
    {
     "name": "stdout",
     "output_type": "stream",
     "text": [
      "(cpu)Minimum found at: (x=0.270270; y=61.152233) (execution time: 0.000442s)\n"
     ]
    },
    {
     "name": "stdout",
     "output_type": "stream",
     "text": [
      "(cpu, n=1e8)Minimum found at: (x=0.270859; y=61.152168) (execution time: 1.456683s)\n",
      "(gpu, n=1e8)Minimum found at: (x=0.270858; y=61.152168) (execution time: 0.039908s)\n"
     ]
    }
   ],
   "source": [
    "# create optimizer and find minimum\n",
    "optimizer = OptimizationPyTorch(func=myfunc)\n",
    "\n",
    "# use cpu\n",
    "min_point, elapsed_time = optimizer.uniform_search(*INTERVAL) # n = 1000 (default)\n",
    "print(f'(cpu)Minimum found at: {min_point:.6f} (execution time: {elapsed_time:.6f}s)')\n",
    "\n",
    "\"\"\" \n",
    "check for n = 1 * 10^8\n",
    "\"\"\"\n",
    "# use cpu\n",
    "min_point, elapsed_time = optimizer.uniform_search(*INTERVAL, n=int(1e8), \n",
    "                                                   add_to_comparison=False)\n",
    "print(f'(cpu, n=1e8)Minimum found at: {min_point:.6f} (execution time: {elapsed_time:.6f}s)')\n",
    "\n",
    "# use gpu\n",
    "device = 'cuda' if torch.cuda.is_available() else 'cpu'\n",
    "if device == 'cpu':\n",
    "    raise Exception('cuda is not available')\n",
    "\n",
    "min_point, elapsed_time = optimizer.uniform_search(*INTERVAL, device=device, \n",
    "                                                   n=int(1e8), \n",
    "                                                   add_to_comparison=False)\n",
    "print(f'({'gpu' if device=='cuda' else device}, n=1e8)Minimum found at: {min_point:.6f} (execution time: {elapsed_time:.6f}s)')"
   ]
  },
  {
   "cell_type": "markdown",
   "metadata": {},
   "source": [
    "## Broken lines"
   ]
  },
  {
   "cell_type": "markdown",
   "metadata": {},
   "source": [
    "## Secant"
   ]
  },
  {
   "cell_type": "markdown",
   "metadata": {},
   "source": [
    "## Newton"
   ]
  },
  {
   "cell_type": "markdown",
   "metadata": {},
   "source": [
    "# Comparison"
   ]
  },
  {
   "cell_type": "code",
   "execution_count": 654,
   "metadata": {},
   "outputs": [
    {
     "data": {
      "text/plain": [
       "[Comparison.Method(name='uniform_search', implementation_type='analytical', result=Point(x=0.27172827172827174, y=61.152229844624365), execution_time=0.001003500001388602, details=''),\n",
       " Comparison.Method(name='uniform_search', implementation_type='scipy', result=Point(x=np.float64(0.27100929054054057), y=np.float64(61.152168477488594)), execution_time=0.011909799999557436, details=''),\n",
       " Comparison.Method(name='uniform_search', implementation_type='pytorch', result=Point(x=tensor(0.2703), y=tensor(61.1522)), execution_time=0.00044169998727738857, details='cpu')]"
      ]
     },
     "execution_count": 654,
     "metadata": {},
     "output_type": "execute_result"
    }
   ],
   "source": [
    "cmpr.get_data()"
   ]
  }
 ],
 "metadata": {
  "kernelspec": {
   "display_name": "science-venv",
   "language": "python",
   "name": "python3"
  },
  "language_info": {
   "codemirror_mode": {
    "name": "ipython",
    "version": 3
   },
   "file_extension": ".py",
   "mimetype": "text/x-python",
   "name": "python",
   "nbconvert_exporter": "python",
   "pygments_lexer": "ipython3",
   "version": "3.13.2"
  }
 },
 "nbformat": 4,
 "nbformat_minor": 2
}
